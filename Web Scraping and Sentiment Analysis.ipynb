{
  "cells": [
    {
      "cell_type": "code",
      "execution_count": null,
      "id": "4b70f156",
      "metadata": {
        "id": "4b70f156"
      },
      "outputs": [],
      "source": [
        "import pandas as pd\n",
        "from bs4 import BeautifulSoup\n",
        "import requests\n",
        "import nltk\n",
        "from nltk.sentiment.vader import SentimentIntensityAnalyzer\n",
        "nltk.download('vader_lexicon')"
      ]
    },
    {
      "cell_type": "code",
      "execution_count": 34,
      "id": "55ab0e1b",
      "metadata": {
        "id": "55ab0e1b"
      },
      "outputs": [],
      "source": [
        "urls = []\n",
        "for page_num in range(1,11):\n",
        "  url= f'https://www.airlinequality.com/airline-reviews/british-airways/page/{page_num}/?sortby=post_date%3ADesc&pagesize=100'\n",
        "  urls.append(url)\n",
        "\n",
        "#To get multiple urls, had to make a list of different urls. Then in order to get response of each url we need to make it as a list too\n",
        "#and save the response in that list."
      ]
    },
    {
      "cell_type": "code",
      "source": [
        "responses=[]\n",
        "for link in urls:\n",
        "    response=requests.get(link)\n",
        "    response.raise_for_status()\n",
        "    responses.append(response)"
      ],
      "metadata": {
        "id": "ujH-nyvoFr85"
      },
      "id": "ujH-nyvoFr85",
      "execution_count": 35,
      "outputs": []
    },
    {
      "cell_type": "code",
      "execution_count": 36,
      "id": "00bfb11f",
      "metadata": {
        "id": "00bfb11f"
      },
      "outputs": [],
      "source": [
        "soups=[]\n",
        "for r in responses:\n",
        "    soup=BeautifulSoup(r.content,'html.parser')\n",
        "    soups.append(soup)\n",
        "#Since response of each url was in responses list, had to go through each response and use soup on it and save each soup in a list"
      ]
    },
    {
      "cell_type": "code",
      "execution_count": 37,
      "id": "db141f60",
      "metadata": {
        "id": "db141f60"
      },
      "outputs": [],
      "source": [
        "all_reviews=[]\n",
        "for s in soups:\n",
        "    reviews=s.find('article', class_=\"comp comp_reviews-airline querylist position-content\").find_all('article')\n",
        "    all_reviews.append(reviews)\n",
        "#Same resoning here"
      ]
    },
    {
      "cell_type": "code",
      "execution_count": 38,
      "id": "070a4376",
      "metadata": {
        "id": "070a4376"
      },
      "outputs": [],
      "source": [
        "data=[]\n",
        "for a in all_reviews:\n",
        "    count=0\n",
        "    for review in a: #'a' here can be interpreted as review in all_reviews list. So basically here we are going through each review in all_reviews and scraping required information from it.\n",
        "        if review:\n",
        "            count+=1\n",
        "        review_data={} #Using dictionary here to make a dataframe from this\n",
        "        name=review.find('h3', class_='text_sub_header userStatusWrapper').find('span',itemprop=\"name\").text.strip()\n",
        "        date=review.find('h3', class_='text_sub_header userStatusWrapper').find('time',itemprop=\"datePublished\").text.strip()\n",
        "        country=review.find('h3', class_='text_sub_header userStatusWrapper').find('span',itemprop=\"name\").string.next_element[2:-2]\n",
        "        rating = review.find('div', class_='rating-10').text.strip()[0]\n",
        "        title = review.find('h2', class_='text_header').text.strip()\n",
        "        content = review.find('div', class_='text_content').text.strip(' ')[16:].lstrip('|  ')\n",
        "        aircraft=review.find('td',class_=\"review-rating-header aircraft\")\n",
        "        aircraft_=review.find('td',class_=\"review-value\").next_element.text.strip() if aircraft else None\n",
        "        type_of_traveller=None\n",
        "\n",
        "        seat_type,route,date_flown,recommended,seat_comfort,cabin_staff_service,f_b,entertainment,ground_service,wifi,value_for_money=None,None,None,None,None,None,None,None,None,None,None\n",
        "        review_stats_table=review.find('div', class_=\"review-stats\").find('table', class_=\"review-ratings\")\n",
        "        trs=review_stats_table.find_all('tr')\n",
        "        for tr in trs:\n",
        "            header=tr.find('td',class_=\"review-rating-header\").text.strip()\n",
        "            value=tr.find('td',class_=\"review-value\")\n",
        "            stars=tr.find('td',class_=\"review-rating-stars stars\")\n",
        "            if header=='Type Of Traveller':\n",
        "                type_of_traveller=value.text.strip()\n",
        "            elif header=='Seat Type':\n",
        "                seat_type=value.text.strip()\n",
        "            elif header=='Route' :\n",
        "                route=value.text.strip()\n",
        "            elif header=='Date Flown':\n",
        "                date_flown=value.text.strip()\n",
        "            elif header=='Recommended':\n",
        "                recommended=value.text.strip().capitalize()\n",
        "            elif header=='Seat Comfort':\n",
        "                star_count=len(stars.find_all('span', class_=\"star fill\"))\n",
        "                seat_comfort=star_count\n",
        "            elif header=='Cabin Staff Service':\n",
        "                star_count=len(stars.find_all('span', class_=\"star fill\"))\n",
        "                cabin_staff_service=star_count\n",
        "            elif header=='Food & Beverages':\n",
        "                star_count=len(stars.find_all('span', class_=\"star fill\"))\n",
        "                f_b=star_count\n",
        "            elif header=='Inflight Entertainment':\n",
        "                star_count=len(stars.find_all('span', class_=\"star fill\"))\n",
        "                entertainment=star_count\n",
        "            elif header=='Ground Service':\n",
        "                star_count=len(stars.find_all('span', class_=\"star fill\"))\n",
        "                ground_service=star_count\n",
        "            elif header=='Wifi & Connectivity':\n",
        "                star_count=len(stars.find_all('span', class_=\"star fill\"))\n",
        "                wifi=star_count\n",
        "            elif header=='Value For Money':\n",
        "                star_count=len(stars.find_all('span', class_=\"star fill\"))\n",
        "                value_for_money=star_count\n",
        "        review_data['S_No']=count\n",
        "        review_data['Name'] = name\n",
        "        review_data['Date'] = date\n",
        "        review_data['Country'] = country\n",
        "        review_data['Rating'] = rating\n",
        "        review_data['Title'] = title\n",
        "        review_data['Content'] = content\n",
        "        review_data['Aircraft'] = aircraft_\n",
        "        review_data['Type Of Traveller'] = type_of_traveller\n",
        "        review_data['Seat Type']=seat_type\n",
        "        review_data['Route']=route\n",
        "        review_data['Date Flown']=date_flown\n",
        "        review_data['Recommended']=recommended\n",
        "        review_data['Seat Comfort']=seat_comfort\n",
        "        review_data['Cabin Staff Service']=cabin_staff_service\n",
        "        review_data['Food & Beverages']=f_b\n",
        "        review_data['Inflight Entertainment']=entertainment\n",
        "        review_data['Ground Service']=ground_service\n",
        "        review_data['Wifi & Connectivity']=wifi\n",
        "        review_data['Value For Money']=value_for_money\n",
        "        data.append(review_data)\n"
      ]
    },
    {
      "cell_type": "code",
      "execution_count": null,
      "id": "449c7e1b",
      "metadata": {
        "id": "449c7e1b"
      },
      "outputs": [],
      "source": [
        "#Making the scraped data into a DataFrame\n",
        "df = pd.DataFrame(data)\n",
        "pd.set_option('display.expand_frame_repr', False)\n",
        "df.drop(['S_No'],axis=1,inplace=True)\n",
        "df"
      ]
    },
    {
      "cell_type": "code",
      "execution_count": null,
      "id": "1ed71b5c",
      "metadata": {
        "id": "1ed71b5c"
      },
      "outputs": [],
      "source": [
        "sentiment_df=df[['Name','Route','Title','Content', 'Rating']]\n",
        "sentiment_df"
      ]
    },
    {
      "cell_type": "code",
      "execution_count": null,
      "id": "8685e0c2",
      "metadata": {
        "id": "8685e0c2"
      },
      "outputs": [],
      "source": [
        "#Using SentimentIntensityAnalyzer from Vader to do Sentiment Analysis\n",
        "sia = SentimentIntensityAnalyzer()\n",
        "\n",
        "sentiments = []\n",
        "\n",
        "for title in df['Content']:\n",
        "    sentiment = sia.polarity_scores(title)\n",
        "    sentiments.append(sentiment)\n",
        "\n",
        "df['Sentiment'] = sentiments\n",
        "\n",
        "print(df[['Content', 'Sentiment']])"
      ]
    },
    {
      "cell_type": "code",
      "execution_count": null,
      "id": "8b1fe2c6",
      "metadata": {
        "id": "8b1fe2c6"
      },
      "outputs": [],
      "source": [
        "#Seperating Neg, Neu, Pos and Compound into different columns in DataFrame\n",
        "sentiments = []\n",
        "\n",
        "for title in df['Content']:\n",
        "    sentiment = sia.polarity_scores(title)\n",
        "    sentiments.append(sentiment)\n",
        "\n",
        "df['Sentiment'] = sentiments\n",
        "\n",
        "df['Negative'] = [s['neg'] for s in df['Sentiment']]\n",
        "df['Neutral'] = [s['neu'] for s in df['Sentiment']]\n",
        "df['Positive'] = [s['pos'] for s in df['Sentiment']]\n",
        "df['Compound'] = [s['compound'] for s in df['Sentiment']]\n",
        "\n",
        "df.drop('Sentiment', axis=1, inplace=True)\n",
        "\n",
        "df[['Title', 'Negative', 'Neutral', 'Positive', 'Compound']]"
      ]
    },
    {
      "cell_type": "code",
      "execution_count": null,
      "id": "b8fb8ba3",
      "metadata": {
        "id": "b8fb8ba3"
      },
      "outputs": [],
      "source": []
    }
  ],
  "metadata": {
    "kernelspec": {
      "display_name": "Python 3 (ipykernel)",
      "language": "python",
      "name": "python3"
    },
    "language_info": {
      "codemirror_mode": {
        "name": "ipython",
        "version": 3
      },
      "file_extension": ".py",
      "mimetype": "text/x-python",
      "name": "python",
      "nbconvert_exporter": "python",
      "pygments_lexer": "ipython3",
      "version": "3.9.12"
    },
    "colab": {
      "provenance": []
    }
  },
  "nbformat": 4,
  "nbformat_minor": 5
}
